# overhead
import logging
import math
import random
import numpy as np
import time
import torch.nn as nn
from torch import optim
from torch.nn import utils
import matplotlib.pyplot as plt

!pip install ipywidgets
from ipywidgets import IntProgress
from IPython.display import display
from matplotlib import pyplot as plt, rc
from matplotlib.animation import FuncAnimation, PillowWriter
rc('animation', html='jshtml')
!pip install jupyterthemes
from jupyterthemes import jtplot
jtplot.style(theme='grade3', context='notebook', ticks=True, grid=False)

FRAME_TIME = 0.1  # Time interval
GRAVITY_ACCEL_Y = 9.81  # Gravity constant in Y direction
BOOST_ACCEL = 15.0  # Thrust constant
OMEGA_RATE = 1.0  # Max rotation rate

# Dynamics for Helicopter
class Dynamics(nn.Module):
    def __init__(self):
        super(Dynamics, self).__init__()

    def forward(self, state, action):
        """
        action[0] = Thrust (positive for upward thrust)
        action[1] = Roll (angular velocity around X-axis)

        state[0] = x
        state[1] = y
        state[2] = z
        state[3] = phi  # Roll angle (rotation around X-axis)

        """
        # Constants
        g = 9.81  # Acceleration due to gravity
        m = 1  # Mass of helicopter

        # Extract state variables
        x, y, z, phi = state[0, 0], state[0, 1], state[0, 2], state[0, 3]

        # Extract control inputs
        thrust = action[0, 0]
        phi_dot = action[0, 1]

        # Helicopter dynamics
        phi += phi_dot * FRAME_TIME
        delta_state_gravity = torch.tensor([[0., 0., 0., -g * FRAME_TIME]])

        state_tensor = torch.zeros((1, 4))
        state_tensor[0, 3] = torch.cos(phi)

        delta_state = BOOST_ACCEL * FRAME_TIME * torch.mul(state_tensor, thrust).reshape(-1, 1)

        # Theta
        delta_state_theta = torch.tensor([[0., 0., 0., 0.]])

        # Update state
        step_mat = torch.tensor([[1., 0., FRAME_TIME, 0.],
                                 [0., 1., 0., FRAME_TIME],
                                 [0., 0., 1., 0.],
                                 [0., 0., 0., 1.]])

        shift_mat = torch.tensor([[0., 0., FRAME_TIME, 0.],
                                 [0., 0., 0., FRAME_TIME],
                                 [0., 0., 0., 0.],
                                 [0., 0., 0., 0.]])

        state = torch.matmul(step_mat, state.T) + torch.matmul(shift_mat, delta_state.T) * 0.5 + torch.matmul(shift_mat, delta_state_gravity.T) * 0.5
        state = state.T

        state = state + delta_state + delta_state_gravity + delta_state_theta

        return state

class Controller(nn.Module):
    def __init__(self, dim_input, dim_hidden, dim_output):
        """
        dim_input: # of system states
        dim_output: # of actions
        dim_hidden:
        """
        super(Controller, self).__init__()

        self.network = nn.Sequential(
            nn.Linear(dim_input, dim_hidden),
            nn.Tanh(),
            nn.Linear(dim_hidden, dim_hidden),
            nn.Tanh(),
            nn.Linear(dim_hidden, dim_output),
            nn.Sigmoid())

    def forward(self, state):
        action = self.network(state)
        action = (action - torch.tensor([0., 0.5]))*2  # bound theta_dot range -1 to 1
        return action


class Simulation(nn.Module):
    def __init__(self, controller, dynamics, T):
        super(Simulation, self).__init__()
        self.state = self.initialize_state()
        self.controller = controller
        self.dynamics = dynamics
        self.T = T
        self.action_trajectory = []
        self.state_trajectory = []

    def forward(self, state):
        for _ in range(self.T):
            action = self.controller(state)
            state = self.dynamics(state, action)
            self.action_trajectory.append(action)
            self.state_trajectory.append(state)
        return self.error(state)

    @staticmethod
    def initialize_state():
        state = [[0.0, 100.0, 0.0, 0.0, 0.1, 0.0, 0.0, 0.0, 0.0]]
        return torch.tensor(state, requires_grad=False).float()

    def error(self, state):
        return torch.mean(state ** 2)

class Optimize:
    def __init__(self, simulation):
        self.simulation = simulation
        self.parameters = simulation.controller.parameters()
        self.optimizer = optim.LBFGS(self.parameters, lr=0.01)
        self.loss_list = []

    def step(self):
        def closure():
            loss = self.simulation(self.simulation.state)
            self.optimizer.zero_grad()
            loss.backward()
            return loss

        self.optimizer.step(closure)
        return closure()

    def train(self, epochs):
        loss_history = []
        for epoch in range(epochs):
            loss = self.step()
            self.loss_list.append(loss.item())
            loss_history.append(loss.item())
            print(f'Epoch [{epoch + 1}/{epochs}] - Loss: {loss:.3f}')

        self.visualize()
        self.plot_loss(loss_history)
    def visualize(self):
        data = np.array([self.simulation.state_trajectory[i][0].detach().numpy() for i in range(self.simulation.T)])
        x = data[:, 0]
        y = data[:, 1]
        z = data[:, 2]
        vx = data[:, 6]
        vy = data[:, 7]
        vz = data[:, 8]
        action_data = np.array([self.simulation.action_trajectory[i][0].detach().numpy() for i in range(self.simulation.T)])
        thrust = action_data[:, 0]
        roll_rate = action_data[:, 1]

        frame = range(self.simulation.T)

        fig, ax = plt.subplots(1, 5, tight_layout=1, figsize=(15, 5))

        ax[0].plot(x, y, c='b')
        ax[0].set_xlabel("X")
        ax[0].set_ylabel("Y")
        ax[0].set(title="Displacement plot (X-Y)")

        ax[1].plot(frame, vx, c='c', label="Velocity in X")
        ax[1].plot(frame, vy, c='r', label="Velocity in Y")
        ax[1].set_xlabel("Time step")
        ax[1].set_ylabel("Velocity (m/s)")
        ax[1].legend(frameon=0)
        ax[1].set(title="Velocity plot")

        ax[2].plot(frame, z, c='g', label="Altitude (Z)")
        ax[2].set_xlabel("Time step")
        ax[2].set_ylabel("Altitude (Z)")
        ax[2].legend(frameon=0)
        ax[2].set(title="Altitude plot")

        ax[3].plot(frame, thrust, c='y', label="Thrust")
        ax[3].set_xlabel("Time step")
        ax[3].set_ylabel("Thrust")
        ax[3].legend(frameon=0)
        ax[3].set(title="Thrust plot")

        ax[4].plot(frame, roll_rate, c='m', label="Roll rate")
        ax[4].set_xlabel("Time step")
        ax[4].set_ylabel("Roll rate")
        ax[4].legend(frameon=0)
        ax[4].set(title="Roll rate plot")

        plt.show()

    def plot_loss(self, loss_history):
        plt.plot(range(1, len(loss_history) + 1), loss_history)
        plt.title('Objective Function Convergence Curve')
        plt.xlabel('Training Iteration')
        plt.ylabel('Error')
        plt.show()

# Initialize and train the helicopter controller
T = 100  # number of time steps of the simulation
dim_input = 5  # state space dimensions
dim_hidden = 6  # latent dimensions
dim_output = 2  # action space dimensions
d = Dynamics()
c = Controller(dim_input, dim_hidden, dim_output)
s = Simulation(c, d, T)
o = Optimize(s)
o.train(50)  # Training with the number of epochs (gradient descent steps)
